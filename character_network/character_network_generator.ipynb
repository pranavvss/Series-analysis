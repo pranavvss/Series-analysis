{
 "cells": [
  {
   "cell_type": "code",
   "execution_count": null,
   "metadata": {},
   "outputs": [],
   "source": []
  },
  {
   "cell_type": "markdown",
   "metadata": {},
   "source": [
    "# Named Entit recognition"
   ]
  },
  {
   "cell_type": "code",
   "execution_count": 3,
   "metadata": {},
   "outputs": [],
   "source": [
    "import spacy\n",
    "from nltk import sent_tokenize"
   ]
  },
  {
   "cell_type": "code",
   "execution_count": 4,
   "metadata": {},
   "outputs": [
    {
     "name": "stdout",
     "output_type": "stream",
     "text": [
      "Collecting en-core-web-trf==3.7.3\n",
      "  Using cached https://github.com/explosion/spacy-models/releases/download/en_core_web_trf-3.7.3/en_core_web_trf-3.7.3-py3-none-any.whl (457.4 MB)\n",
      "Requirement already satisfied: spacy-curated-transformers<0.3.0,>=0.2.0 in c:\\users\\prana\\appdata\\local\\packages\\pythonsoftwarefoundation.python.3.8_qbz5n2kfra8p0\\localcache\\local-packages\\python38\\site-packages (from en-core-web-trf==3.7.3) (0.2.2)\n",
      "Requirement already satisfied: spacy<3.8.0,>=3.7.2 in c:\\users\\prana\\appdata\\local\\packages\\pythonsoftwarefoundation.python.3.8_qbz5n2kfra8p0\\localcache\\local-packages\\python38\\site-packages (from en-core-web-trf==3.7.3) (3.7.6)\n",
      "Requirement already satisfied: jinja2 in c:\\users\\prana\\appdata\\local\\packages\\pythonsoftwarefoundation.python.3.8_qbz5n2kfra8p0\\localcache\\local-packages\\python38\\site-packages (from spacy<3.8.0,>=3.7.2->en-core-web-trf==3.7.3) (3.1.4)\n",
      "Requirement already satisfied: preshed<3.1.0,>=3.0.2 in c:\\users\\prana\\appdata\\local\\packages\\pythonsoftwarefoundation.python.3.8_qbz5n2kfra8p0\\localcache\\local-packages\\python38\\site-packages (from spacy<3.8.0,>=3.7.2->en-core-web-trf==3.7.3) (3.0.9)\n",
      "Requirement already satisfied: tqdm<5.0.0,>=4.38.0 in c:\\users\\prana\\appdata\\local\\packages\\pythonsoftwarefoundation.python.3.8_qbz5n2kfra8p0\\localcache\\local-packages\\python38\\site-packages (from spacy<3.8.0,>=3.7.2->en-core-web-trf==3.7.3) (4.66.5)\n",
      "Requirement already satisfied: setuptools in c:\\program files\\windowsapps\\pythonsoftwarefoundation.python.3.8_3.8.2800.0_x64__qbz5n2kfra8p0\\lib\\site-packages (from spacy<3.8.0,>=3.7.2->en-core-web-trf==3.7.3) (56.0.0)\n",
      "Requirement already satisfied: spacy-legacy<3.1.0,>=3.0.11 in c:\\users\\prana\\appdata\\local\\packages\\pythonsoftwarefoundation.python.3.8_qbz5n2kfra8p0\\localcache\\local-packages\\python38\\site-packages (from spacy<3.8.0,>=3.7.2->en-core-web-trf==3.7.3) (3.0.12)\n",
      "Requirement already satisfied: cymem<2.1.0,>=2.0.2 in c:\\users\\prana\\appdata\\local\\packages\\pythonsoftwarefoundation.python.3.8_qbz5n2kfra8p0\\localcache\\local-packages\\python38\\site-packages (from spacy<3.8.0,>=3.7.2->en-core-web-trf==3.7.3) (2.0.8)\n",
      "Requirement already satisfied: packaging>=20.0 in c:\\users\\prana\\appdata\\local\\packages\\pythonsoftwarefoundation.python.3.8_qbz5n2kfra8p0\\localcache\\local-packages\\python38\\site-packages (from spacy<3.8.0,>=3.7.2->en-core-web-trf==3.7.3) (24.1)\n",
      "Requirement already satisfied: spacy-loggers<2.0.0,>=1.0.0 in c:\\users\\prana\\appdata\\local\\packages\\pythonsoftwarefoundation.python.3.8_qbz5n2kfra8p0\\localcache\\local-packages\\python38\\site-packages (from spacy<3.8.0,>=3.7.2->en-core-web-trf==3.7.3) (1.0.5)\n",
      "Requirement already satisfied: murmurhash<1.1.0,>=0.28.0 in c:\\users\\prana\\appdata\\local\\packages\\pythonsoftwarefoundation.python.3.8_qbz5n2kfra8p0\\localcache\\local-packages\\python38\\site-packages (from spacy<3.8.0,>=3.7.2->en-core-web-trf==3.7.3) (1.0.10)\n",
      "Requirement already satisfied: requests<3.0.0,>=2.13.0 in c:\\users\\prana\\appdata\\local\\packages\\pythonsoftwarefoundation.python.3.8_qbz5n2kfra8p0\\localcache\\local-packages\\python38\\site-packages (from spacy<3.8.0,>=3.7.2->en-core-web-trf==3.7.3) (2.32.3)\n",
      "Requirement already satisfied: typer<1.0.0,>=0.3.0 in c:\\users\\prana\\appdata\\local\\packages\\pythonsoftwarefoundation.python.3.8_qbz5n2kfra8p0\\localcache\\local-packages\\python38\\site-packages (from spacy<3.8.0,>=3.7.2->en-core-web-trf==3.7.3) (0.12.5)\n",
      "Requirement already satisfied: catalogue<2.1.0,>=2.0.6 in c:\\users\\prana\\appdata\\local\\packages\\pythonsoftwarefoundation.python.3.8_qbz5n2kfra8p0\\localcache\\local-packages\\python38\\site-packages (from spacy<3.8.0,>=3.7.2->en-core-web-trf==3.7.3) (2.0.10)\n",
      "Requirement already satisfied: wasabi<1.2.0,>=0.9.1 in c:\\users\\prana\\appdata\\local\\packages\\pythonsoftwarefoundation.python.3.8_qbz5n2kfra8p0\\localcache\\local-packages\\python38\\site-packages (from spacy<3.8.0,>=3.7.2->en-core-web-trf==3.7.3) (1.1.3)\n",
      "Requirement already satisfied: thinc<8.3.0,>=8.2.2 in c:\\users\\prana\\appdata\\local\\packages\\pythonsoftwarefoundation.python.3.8_qbz5n2kfra8p0\\localcache\\local-packages\\python38\\site-packages (from spacy<3.8.0,>=3.7.2->en-core-web-trf==3.7.3) (8.2.5)\n",
      "Requirement already satisfied: numpy>=1.15.0 in c:\\users\\prana\\appdata\\local\\packages\\pythonsoftwarefoundation.python.3.8_qbz5n2kfra8p0\\localcache\\local-packages\\python38\\site-packages (from spacy<3.8.0,>=3.7.2->en-core-web-trf==3.7.3) (1.23.5)\n",
      "Requirement already satisfied: weasel<0.5.0,>=0.1.0 in c:\\users\\prana\\appdata\\local\\packages\\pythonsoftwarefoundation.python.3.8_qbz5n2kfra8p0\\localcache\\local-packages\\python38\\site-packages (from spacy<3.8.0,>=3.7.2->en-core-web-trf==3.7.3) (0.4.1)\n",
      "Requirement already satisfied: langcodes<4.0.0,>=3.2.0 in c:\\users\\prana\\appdata\\local\\packages\\pythonsoftwarefoundation.python.3.8_qbz5n2kfra8p0\\localcache\\local-packages\\python38\\site-packages (from spacy<3.8.0,>=3.7.2->en-core-web-trf==3.7.3) (3.4.0)\n",
      "Requirement already satisfied: srsly<3.0.0,>=2.4.3 in c:\\users\\prana\\appdata\\local\\packages\\pythonsoftwarefoundation.python.3.8_qbz5n2kfra8p0\\localcache\\local-packages\\python38\\site-packages (from spacy<3.8.0,>=3.7.2->en-core-web-trf==3.7.3) (2.4.8)\n",
      "Requirement already satisfied: pydantic!=1.8,!=1.8.1,<3.0.0,>=1.7.4 in c:\\users\\prana\\appdata\\local\\packages\\pythonsoftwarefoundation.python.3.8_qbz5n2kfra8p0\\localcache\\local-packages\\python38\\site-packages (from spacy<3.8.0,>=3.7.2->en-core-web-trf==3.7.3) (2.8.2)\n",
      "Requirement already satisfied: language-data>=1.2 in c:\\users\\prana\\appdata\\local\\packages\\pythonsoftwarefoundation.python.3.8_qbz5n2kfra8p0\\localcache\\local-packages\\python38\\site-packages (from langcodes<4.0.0,>=3.2.0->spacy<3.8.0,>=3.7.2->en-core-web-trf==3.7.3) (1.2.0)\n",
      "Requirement already satisfied: marisa-trie>=0.7.7 in c:\\users\\prana\\appdata\\local\\packages\\pythonsoftwarefoundation.python.3.8_qbz5n2kfra8p0\\localcache\\local-packages\\python38\\site-packages (from language-data>=1.2->langcodes<4.0.0,>=3.2.0->spacy<3.8.0,>=3.7.2->en-core-web-trf==3.7.3) (1.2.0)\n",
      "Requirement already satisfied: annotated-types>=0.4.0 in c:\\users\\prana\\appdata\\local\\packages\\pythonsoftwarefoundation.python.3.8_qbz5n2kfra8p0\\localcache\\local-packages\\python38\\site-packages (from pydantic!=1.8,!=1.8.1,<3.0.0,>=1.7.4->spacy<3.8.0,>=3.7.2->en-core-web-trf==3.7.3) (0.7.0)\n",
      "Requirement already satisfied: typing-extensions>=4.6.1 in c:\\users\\prana\\appdata\\local\\packages\\pythonsoftwarefoundation.python.3.8_qbz5n2kfra8p0\\localcache\\local-packages\\python38\\site-packages (from pydantic!=1.8,!=1.8.1,<3.0.0,>=1.7.4->spacy<3.8.0,>=3.7.2->en-core-web-trf==3.7.3) (4.12.2)\n",
      "Requirement already satisfied: pydantic-core==2.20.1 in c:\\users\\prana\\appdata\\local\\packages\\pythonsoftwarefoundation.python.3.8_qbz5n2kfra8p0\\localcache\\local-packages\\python38\\site-packages (from pydantic!=1.8,!=1.8.1,<3.0.0,>=1.7.4->spacy<3.8.0,>=3.7.2->en-core-web-trf==3.7.3) (2.20.1)\n",
      "Requirement already satisfied: urllib3<3,>=1.21.1 in c:\\users\\prana\\appdata\\local\\packages\\pythonsoftwarefoundation.python.3.8_qbz5n2kfra8p0\\localcache\\local-packages\\python38\\site-packages (from requests<3.0.0,>=2.13.0->spacy<3.8.0,>=3.7.2->en-core-web-trf==3.7.3) (2.2.2)\n",
      "Requirement already satisfied: charset-normalizer<4,>=2 in c:\\users\\prana\\appdata\\local\\packages\\pythonsoftwarefoundation.python.3.8_qbz5n2kfra8p0\\localcache\\local-packages\\python38\\site-packages (from requests<3.0.0,>=2.13.0->spacy<3.8.0,>=3.7.2->en-core-web-trf==3.7.3) (3.3.2)\n",
      "Requirement already satisfied: idna<4,>=2.5 in c:\\users\\prana\\appdata\\local\\packages\\pythonsoftwarefoundation.python.3.8_qbz5n2kfra8p0\\localcache\\local-packages\\python38\\site-packages (from requests<3.0.0,>=2.13.0->spacy<3.8.0,>=3.7.2->en-core-web-trf==3.7.3) (3.8)\n",
      "Requirement already satisfied: certifi>=2017.4.17 in c:\\users\\prana\\appdata\\local\\packages\\pythonsoftwarefoundation.python.3.8_qbz5n2kfra8p0\\localcache\\local-packages\\python38\\site-packages (from requests<3.0.0,>=2.13.0->spacy<3.8.0,>=3.7.2->en-core-web-trf==3.7.3) (2024.7.4)\n",
      "Requirement already satisfied: curated-tokenizers<0.1.0,>=0.0.9 in c:\\users\\prana\\appdata\\local\\packages\\pythonsoftwarefoundation.python.3.8_qbz5n2kfra8p0\\localcache\\local-packages\\python38\\site-packages (from spacy-curated-transformers<0.3.0,>=0.2.0->en-core-web-trf==3.7.3) (0.0.9)\n",
      "Requirement already satisfied: curated-transformers<0.2.0,>=0.1.0 in c:\\users\\prana\\appdata\\local\\packages\\pythonsoftwarefoundation.python.3.8_qbz5n2kfra8p0\\localcache\\local-packages\\python38\\site-packages (from spacy-curated-transformers<0.3.0,>=0.2.0->en-core-web-trf==3.7.3) (0.1.1)\n",
      "Requirement already satisfied: torch>=1.12.0 in c:\\users\\prana\\appdata\\local\\packages\\pythonsoftwarefoundation.python.3.8_qbz5n2kfra8p0\\localcache\\local-packages\\python38\\site-packages (from spacy-curated-transformers<0.3.0,>=0.2.0->en-core-web-trf==3.7.3) (2.4.0)\n",
      "Requirement already satisfied: regex>=2022 in c:\\users\\prana\\appdata\\local\\packages\\pythonsoftwarefoundation.python.3.8_qbz5n2kfra8p0\\localcache\\local-packages\\python38\\site-packages (from curated-tokenizers<0.1.0,>=0.0.9->spacy-curated-transformers<0.3.0,>=0.2.0->en-core-web-trf==3.7.3) (2024.7.24)\n",
      "Requirement already satisfied: blis<0.8.0,>=0.7.8 in c:\\users\\prana\\appdata\\local\\packages\\pythonsoftwarefoundation.python.3.8_qbz5n2kfra8p0\\localcache\\local-packages\\python38\\site-packages (from thinc<8.3.0,>=8.2.2->spacy<3.8.0,>=3.7.2->en-core-web-trf==3.7.3) (0.7.11)\n",
      "Requirement already satisfied: confection<1.0.0,>=0.0.1 in c:\\users\\prana\\appdata\\local\\packages\\pythonsoftwarefoundation.python.3.8_qbz5n2kfra8p0\\localcache\\local-packages\\python38\\site-packages (from thinc<8.3.0,>=8.2.2->spacy<3.8.0,>=3.7.2->en-core-web-trf==3.7.3) (0.1.5)\n",
      "Requirement already satisfied: networkx in c:\\users\\prana\\appdata\\local\\packages\\pythonsoftwarefoundation.python.3.8_qbz5n2kfra8p0\\localcache\\local-packages\\python38\\site-packages (from torch>=1.12.0->spacy-curated-transformers<0.3.0,>=0.2.0->en-core-web-trf==3.7.3) (3.1)\n",
      "Requirement already satisfied: filelock in c:\\users\\prana\\appdata\\local\\packages\\pythonsoftwarefoundation.python.3.8_qbz5n2kfra8p0\\localcache\\local-packages\\python38\\site-packages (from torch>=1.12.0->spacy-curated-transformers<0.3.0,>=0.2.0->en-core-web-trf==3.7.3) (3.15.4)\n",
      "Requirement already satisfied: fsspec in c:\\users\\prana\\appdata\\local\\packages\\pythonsoftwarefoundation.python.3.8_qbz5n2kfra8p0\\localcache\\local-packages\\python38\\site-packages (from torch>=1.12.0->spacy-curated-transformers<0.3.0,>=0.2.0->en-core-web-trf==3.7.3) (2024.6.1)\n",
      "Requirement already satisfied: sympy in c:\\users\\prana\\appdata\\local\\packages\\pythonsoftwarefoundation.python.3.8_qbz5n2kfra8p0\\localcache\\local-packages\\python38\\site-packages (from torch>=1.12.0->spacy-curated-transformers<0.3.0,>=0.2.0->en-core-web-trf==3.7.3) (1.13.2)\n",
      "Requirement already satisfied: colorama in c:\\users\\prana\\appdata\\local\\packages\\pythonsoftwarefoundation.python.3.8_qbz5n2kfra8p0\\localcache\\local-packages\\python38\\site-packages (from tqdm<5.0.0,>=4.38.0->spacy<3.8.0,>=3.7.2->en-core-web-trf==3.7.3) (0.4.6)\n",
      "Requirement already satisfied: rich>=10.11.0 in c:\\users\\prana\\appdata\\local\\packages\\pythonsoftwarefoundation.python.3.8_qbz5n2kfra8p0\\localcache\\local-packages\\python38\\site-packages (from typer<1.0.0,>=0.3.0->spacy<3.8.0,>=3.7.2->en-core-web-trf==3.7.3) (13.8.0)\n",
      "Requirement already satisfied: click>=8.0.0 in c:\\users\\prana\\appdata\\local\\packages\\pythonsoftwarefoundation.python.3.8_qbz5n2kfra8p0\\localcache\\local-packages\\python38\\site-packages (from typer<1.0.0,>=0.3.0->spacy<3.8.0,>=3.7.2->en-core-web-trf==3.7.3) (8.1.7)\n",
      "Requirement already satisfied: shellingham>=1.3.0 in c:\\users\\prana\\appdata\\local\\packages\\pythonsoftwarefoundation.python.3.8_qbz5n2kfra8p0\\localcache\\local-packages\\python38\\site-packages (from typer<1.0.0,>=0.3.0->spacy<3.8.0,>=3.7.2->en-core-web-trf==3.7.3) (1.5.4)\n",
      "Requirement already satisfied: markdown-it-py>=2.2.0 in c:\\users\\prana\\appdata\\local\\packages\\pythonsoftwarefoundation.python.3.8_qbz5n2kfra8p0\\localcache\\local-packages\\python38\\site-packages (from rich>=10.11.0->typer<1.0.0,>=0.3.0->spacy<3.8.0,>=3.7.2->en-core-web-trf==3.7.3) (3.0.0)\n",
      "Requirement already satisfied: pygments<3.0.0,>=2.13.0 in c:\\users\\prana\\appdata\\local\\packages\\pythonsoftwarefoundation.python.3.8_qbz5n2kfra8p0\\localcache\\local-packages\\python38\\site-packages (from rich>=10.11.0->typer<1.0.0,>=0.3.0->spacy<3.8.0,>=3.7.2->en-core-web-trf==3.7.3) (2.18.0)\n",
      "Requirement already satisfied: mdurl~=0.1 in c:\\users\\prana\\appdata\\local\\packages\\pythonsoftwarefoundation.python.3.8_qbz5n2kfra8p0\\localcache\\local-packages\\python38\\site-packages (from markdown-it-py>=2.2.0->rich>=10.11.0->typer<1.0.0,>=0.3.0->spacy<3.8.0,>=3.7.2->en-core-web-trf==3.7.3) (0.1.2)\n",
      "Requirement already satisfied: smart-open<8.0.0,>=5.2.1 in c:\\users\\prana\\appdata\\local\\packages\\pythonsoftwarefoundation.python.3.8_qbz5n2kfra8p0\\localcache\\local-packages\\python38\\site-packages (from weasel<0.5.0,>=0.1.0->spacy<3.8.0,>=3.7.2->en-core-web-trf==3.7.3) (7.0.4)\n",
      "Requirement already satisfied: cloudpathlib<1.0.0,>=0.7.0 in c:\\users\\prana\\appdata\\local\\packages\\pythonsoftwarefoundation.python.3.8_qbz5n2kfra8p0\\localcache\\local-packages\\python38\\site-packages (from weasel<0.5.0,>=0.1.0->spacy<3.8.0,>=3.7.2->en-core-web-trf==3.7.3) (0.18.1)\n",
      "Requirement already satisfied: wrapt in c:\\users\\prana\\appdata\\local\\packages\\pythonsoftwarefoundation.python.3.8_qbz5n2kfra8p0\\localcache\\local-packages\\python38\\site-packages (from smart-open<8.0.0,>=5.2.1->weasel<0.5.0,>=0.1.0->spacy<3.8.0,>=3.7.2->en-core-web-trf==3.7.3) (1.14.1)\n",
      "Requirement already satisfied: MarkupSafe>=2.0 in c:\\users\\prana\\appdata\\local\\packages\\pythonsoftwarefoundation.python.3.8_qbz5n2kfra8p0\\localcache\\local-packages\\python38\\site-packages (from jinja2->spacy<3.8.0,>=3.7.2->en-core-web-trf==3.7.3) (2.1.5)\n",
      "Requirement already satisfied: mpmath<1.4,>=1.1.0 in c:\\users\\prana\\appdata\\local\\packages\\pythonsoftwarefoundation.python.3.8_qbz5n2kfra8p0\\localcache\\local-packages\\python38\\site-packages (from sympy->torch>=1.12.0->spacy-curated-transformers<0.3.0,>=0.2.0->en-core-web-trf==3.7.3) (1.3.0)\n",
      "\u001b[38;5;2m✔ Download and installation successful\u001b[0m\n",
      "You can now load the package via spacy.load('en_core_web_trf')\n"
     ]
    },
    {
     "name": "stderr",
     "output_type": "stream",
     "text": [
      "WARNING: You are using pip version 21.1.1; however, version 24.2 is available.\n",
      "You should consider upgrading via the 'C:\\Users\\prana\\AppData\\Local\\Microsoft\\WindowsApps\\PythonSoftwareFoundation.Python.3.8_qbz5n2kfra8p0\\python.exe -m pip install --upgrade pip' command.\n"
     ]
    }
   ],
   "source": [
    "!python -m spacy download en_core_web_trf"
   ]
  },
  {
   "cell_type": "markdown",
   "metadata": {},
   "source": [
    "# Load model"
   ]
  },
  {
   "cell_type": "code",
   "execution_count": 5,
   "metadata": {},
   "outputs": [
    {
     "name": "stdout",
     "output_type": "stream",
     "text": [
      "\u001b[38;5;2m✔ Download and installation successful\u001b[0m\n",
      "You can now load the package via spacy.load('en_core_web_trf')\n",
      "\u001b[38;5;3m⚠ Restart to reload dependencies\u001b[0m\n",
      "If you are in a Jupyter or Colab notebook, you may need to restart Python in\n",
      "order to load all the package's dependencies. You can do this by selecting the\n",
      "'Restart kernel' or 'Restart runtime' option.\n"
     ]
    }
   ],
   "source": [
    "import spacy\n",
    "spacy.cli.download(\"en_core_web_trf\")"
   ]
  },
  {
   "cell_type": "code",
   "execution_count": 6,
   "metadata": {},
   "outputs": [],
   "source": [
    "def load_model():\n",
    "    nlp = spacy.load(\"en_core_web_trf\")\n",
    "    return nlp"
   ]
  },
  {
   "cell_type": "code",
   "execution_count": 7,
   "metadata": {},
   "outputs": [
    {
     "name": "stderr",
     "output_type": "stream",
     "text": [
      "C:\\Users\\prana\\AppData\\Local\\Packages\\PythonSoftwareFoundation.Python.3.8_qbz5n2kfra8p0\\LocalCache\\local-packages\\Python38\\site-packages\\tqdm\\auto.py:21: TqdmWarning: IProgress not found. Please update jupyter and ipywidgets. See https://ipywidgets.readthedocs.io/en/stable/user_install.html\n",
      "  from .autonotebook import tqdm as notebook_tqdm\n",
      "C:\\Users\\prana\\AppData\\Local\\Packages\\PythonSoftwareFoundation.Python.3.8_qbz5n2kfra8p0\\LocalCache\\local-packages\\Python38\\site-packages\\thinc\\shims\\pytorch.py:253: FutureWarning: You are using `torch.load` with `weights_only=False` (the current default value), which uses the default pickle module implicitly. It is possible to construct malicious pickle data which will execute arbitrary code during unpickling (See https://github.com/pytorch/pytorch/blob/main/SECURITY.md#untrusted-models for more details). In a future release, the default value for `weights_only` will be flipped to `True`. This limits the functions that could be executed during unpickling. Arbitrary objects will no longer be allowed to be loaded via this mode unless they are explicitly allowlisted by the user via `torch.serialization.add_safe_globals`. We recommend you start setting `weights_only=True` for any use case where you don't have full control of the loaded file. Please open an issue on GitHub for any issues related to this experimental feature.\n",
      "  model.load_state_dict(torch.load(filelike, map_location=device))\n"
     ]
    }
   ],
   "source": [
    "nlp_model = load_model()"
   ]
  },
  {
   "cell_type": "markdown",
   "metadata": {},
   "source": [
    "# load Dataset"
   ]
  },
  {
   "cell_type": "code",
   "execution_count": 8,
   "metadata": {},
   "outputs": [],
   "source": [
    "import os \n",
    "import sys\n",
    "import pathlib\n",
    "import pandas as pd\n",
    "folder_path = pathlib.Path().parent.resolve()\n",
    "sys.path.append(os.path.join(folder_path, '../'))\n",
    "from utils import load_subtitles_dataset"
   ]
  },
  {
   "cell_type": "code",
   "execution_count": 9,
   "metadata": {},
   "outputs": [],
   "source": [
    "import os\n",
    "import pandas as pd\n",
    "from glob import glob\n",
    "\n",
    "def load_subtitles_dataset(dataset_path):\n",
    "    # Get all subtitle files in the directory\n",
    "    subtitles_paths = glob(dataset_path + '/*.ass')\n",
    "\n",
    "    scripts = []\n",
    "    episode_num = []\n",
    "\n",
    "    for path in subtitles_paths:\n",
    "        # Read lines\n",
    "        with open(path, 'r', encoding='utf-8', errors='ignore') as file:\n",
    "            lines = file.readlines()\n",
    "            lines = lines[27:]  # Skip the first 27 lines if needed\n",
    "            lines = [\" \".join(line.split(',')[9:]) for line in lines]\n",
    "            \n",
    "            # Combine all lines into a single script\n",
    "            lines = [line.replace('\\\\N', ' ') for line in lines]\n",
    "            script = \" \".join(lines)\n",
    "\n",
    "        # Extract episode number from the file path/name\n",
    "        episode = int(path.split('-')[-1].split('.')[0].strip())\n",
    "        scripts.append(script)\n",
    "        episode_num.append(episode)\n",
    "    \n",
    "    # Create the DataFrame with two columns: 'episode' and 'script'\n",
    "    df = pd.DataFrame.from_dict({\"episode\": episode_num, \"script\": scripts})\n",
    "    return df"
   ]
  },
  {
   "cell_type": "code",
   "execution_count": 10,
   "metadata": {},
   "outputs": [],
   "source": [
    "dataset_path = \"../data/Subtitles/\"\n",
    "df = load_subtitles_dataset(dataset_path)"
   ]
  },
  {
   "cell_type": "code",
   "execution_count": 11,
   "metadata": {},
   "outputs": [
    {
     "data": {
      "text/html": [
       "<div>\n",
       "<style scoped>\n",
       "    .dataframe tbody tr th:only-of-type {\n",
       "        vertical-align: middle;\n",
       "    }\n",
       "\n",
       "    .dataframe tbody tr th {\n",
       "        vertical-align: top;\n",
       "    }\n",
       "\n",
       "    .dataframe thead th {\n",
       "        text-align: right;\n",
       "    }\n",
       "</style>\n",
       "<table border=\"1\" class=\"dataframe\">\n",
       "  <thead>\n",
       "    <tr style=\"text-align: right;\">\n",
       "      <th></th>\n",
       "      <th>episode</th>\n",
       "      <th>script</th>\n",
       "    </tr>\n",
       "  </thead>\n",
       "  <tbody>\n",
       "    <tr>\n",
       "      <th>0</th>\n",
       "      <td>1</td>\n",
       "      <td>A long time ago  a powerful demon fox appeared...</td>\n",
       "    </tr>\n",
       "    <tr>\n",
       "      <th>1</th>\n",
       "      <td>2</td>\n",
       "      <td>C'mon!\\n Running like a fugitive \\n Being chas...</td>\n",
       "    </tr>\n",
       "    <tr>\n",
       "      <th>2</th>\n",
       "      <td>3</td>\n",
       "      <td>C'mon!\\n Running like a fugitive \\n Being chas...</td>\n",
       "    </tr>\n",
       "    <tr>\n",
       "      <th>3</th>\n",
       "      <td>4</td>\n",
       "      <td>C'mon!\\n Running like a fugitive \\n Being chas...</td>\n",
       "    </tr>\n",
       "    <tr>\n",
       "      <th>4</th>\n",
       "      <td>5</td>\n",
       "      <td>C'mon!\\n Running like a fugitive \\n Being chas...</td>\n",
       "    </tr>\n",
       "  </tbody>\n",
       "</table>\n",
       "</div>"
      ],
      "text/plain": [
       "   episode                                             script\n",
       "0        1  A long time ago  a powerful demon fox appeared...\n",
       "1        2  C'mon!\\n Running like a fugitive \\n Being chas...\n",
       "2        3  C'mon!\\n Running like a fugitive \\n Being chas...\n",
       "3        4  C'mon!\\n Running like a fugitive \\n Being chas...\n",
       "4        5  C'mon!\\n Running like a fugitive \\n Being chas..."
      ]
     },
     "execution_count": 11,
     "metadata": {},
     "output_type": "execute_result"
    }
   ],
   "source": [
    "df.head()"
   ]
  },
  {
   "cell_type": "code",
   "execution_count": 12,
   "metadata": {},
   "outputs": [
    {
     "data": {
      "text/plain": [
       "'A long time ago  a powerful demon fox appeared with nine tails.\\n With its powerful tails \\n it could smash mountains and create tidal waves.\\n A band of Ninjas rose to defend their village from attack.\\n We have to wait until the Fourth Hokage gets here!\\n We can\\'t let it get any closer to our village!\\n One great Ninja was able to imprison the monster \\n but died in the process.\\n This Ninja was known as… the Fourth Hokage.\\n Naruto!\\n Why did you do such a thing?!\\n You\\'re really gonna get it this time!\\n I don\\'t care!\\n You know your problem?\\n You can\\'t do the things I do!\\n Only I can do this!\\n I\\'m better than all of you! Believe it!\\n There\\'s a problem  sir!\\n Lord Hokage!\\n What is it?\\n Did that Naruto do something again?\\n Yes. He climbed onto the Mountainside Images…\\n And he vandalized and graffitied all over them!\\n Wait!\\n Ha ha…\\n Why should I?\\n Hey  Naruto!\\n How did you suddenly get here  lruka Sensei?\\n The question is what are you doing here when you should be in class now?\\n Now listen  Naruto.\\n You failed the last graduation test and the one before that.\\n This is no time to be goofing off  you fool!\\n We will have a re-test on the Transformation Jutsu!\\n Even those who already passed will take it!\\n Whaaaat?!\\n Sakura Haruno. Here I go…\\n Transform!\\n OK!\\n I did it!\\n Cha!\\n Did you see that  Sasuke?\\n Next  Sasuke Uchiha.\\n Yes.\\n O-OK.\\n Next  Naruto Uzumaki.\\n This is a real pain.\\n And it\\'s all your fault.\\n Like I care!!\\n OK…\\n Good luck  Naruto…\\n Transform!\\n How was it?\\n I call it the \"Sexy Jutsu\"!\\n You fool! Stop making idiotic spells!\\n Darn…\\n Darn…\\n I won\\'t let you go home unless you clean that all up.\\n I don\\'t care…\\n There\\'s nobody home anyway.\\n Naruto...\\n What is it this time?\\n What I meant was…\\n If you clean up all that mess  I\\'ll buy you ramen tonight.\\n Huh?!\\n Yes! I-I will finish it no time!\\n Enter: Naruto Uzumaki!\\n Naruto.\\n Why did you vandalize those faces?\\n Don\\'t you know who the Hokage leaders are?\\n Of course  I do!\\n I know they earned the title Lord Hokage\\n because they were the best Ninja of their time  right?\\n Especially the Fourth Hokage was a hero\\n who saved the village from the nine-tail demon fox.\\n Then why did you do that?\\n Because I\\'ll become a Hokage myself.\\n And I\\'ll be the greatest Hokage of all time!\\n So that everyone will finally learn to accept me!\\n By the way  Sensei  I have a favor to ask.\\n You want another bowl?\\n Mmmm…No…\\n Can I borrow that Leaf headband for a while?\\n This?\\n No no!\\n This is worn only by those who have graduated from Ninja Academy.\\n Tomorrow  you will…\\n You\\'re so mean!\\n So that\\'s why you took off your goggles…\\n Humph... One more bowl please!\\n We are now about to begin the graduation test.\\n When your name is called  proceed to the next classroom.\\n The test is on the Clone Jutsu.\\n Oh no…\\n Of all the…! That is my weakest Jutsu!\\n But still… I will do it no matter what!\\n Clone Jutsu!\\n Disqualified!\\n Iruka Sensei.\\n His physical coordination and stamina are excellent.\\n And he managed to come up with something.\\n Isn\\'t that enough for him to pass?\\n Mizuki Sensei... All the others created three or more clones.\\n Naruto created just one.\\n And it\\'s practically useless. I can\\'t give him a passing mark.\\n I \\'m a Ninja now!\\n You did well. That\\'s my son.\\n Congratulations for your graduation.\\n I\\'ll cook something good tonight!\\n Look at that one.\\n It\\'s that boy. I hear he\\'s the only one who failed.\\n Serves him right.\\n Imagine what would happen if he became a Ninja.\\n Isn\\'t that the boy who is actually…\\n Hey! We\\'re not supposed to talk about that.\\n Iruka. We need to talk later.\\n Yes  sir.\\n Iruka Sensei isn\\'t trying to be mean to you.\\n Then why only me?\\n He wants you to become strong from the bottom of his heart.\\n You both don\\'t have parents.\\n But I really wanted to graduate.\\n Heh... I guess I have no choice…\\n I\\'ll let you in on a big secret.\\n Secret?\\n Iruka.\\n What is it  Lord Hokage?\\n I know how you feel. But…\\n Naruto also grew up without knowing the love of his parents…like you.\\n Let me go!\\n My mom and dad are still out there fighting!\\n Wake up  Iruka Sensei!\\n What\\'s the matter?\\n Come to Lord Hokage\\'s immediately!\\n I heard that Naruto… stole the Scroll of Sealing.\\n The Scroll of Sealing?!\\n Let\\'s see…\\n The first Jutsu is… Multi-Shadow Clone Jutsu?\\n What?! Already a Jutsu I\\'m no good at?\\n Lord Hokage! We can\\'t forgive him!\\n This is not just a prank!\\n The Scroll is a dangerous item that the First Hokage sealed!\\n Depending on its use…\\n It will be a major disaster if it is taken out of the village!\\n Yes. Bring Naruto here at once!\\n Yes  sir!\\n Where did you go…Naruto?\\n I will tell everyone in the village about this and eliminate Naruto…\\n Then the Scroll of Sealing will be mine!\\n Hey you  Naruto!\\n You found me..\\n And I\\'ve only learned one Jutsu.\\n He\\'s been practicing the Jutsu…\\n until he\\'s become this exhausted and dirty…?\\n Listen  listen! I\\'m gonna show you this amazing Jutsu!\\n You\\'re gonna let me graduate if I can do it!\\n Isn\\'t it true that I can graduate if I can do one of the Jutsu written here?\\n Who told you that?\\n Mizuki Sensei. He told me about this scroll  and this place…\\n Mizuki did?!\\n I\\'m impressed you found this place.\\n I see now…how it is.\\n Naruto  give me that scroll.\\n Wait  wait… What\\'s going on here?\\n Naruto! Never give him that scroll!\\n It is a dangerous object that contains forbidden Ninja Jutsu. It was sealed.\\n Mizuki used you in order to get it for himself!\\n W-Wha--?\\n Naruto  Iruka is only afraid of you holding that scroll!\\n Huh?\\n What are you saying  Mizuki! Don\\'t let him fool you  Naruto!\\n I will tell you the truth.\\n Idiot! Don\\'t do that!\\n After an incident 12 years ago  a rule was created.\\n A rule?\\n That is  Naruto  a rule everybody but you knows.\\n Except me?! \\t\\t\\t\\t\\tWhat is it?\\n Stop it  Mizuki!\\n The rule forbids anyone from revealing that you are actually the Demon Fox Spirit!\\n Huh?\\n You are actually the Demon  Nine-Tailed Fox Spirit \\n who killed Iruka\\'s parents and destroyed our village!\\n Stop it!\\n Everyone has been deceiving you ever since.\\n Didn\\'t you find it strange?\\n Why everyone hated you so much?\\n No! No! No! No! No!\\n Naruto…\\n Nobody accepts you. That\\'s why Iruka hates you so much!\\n Iruka... Naruto grew up without the love of parents.\\n Everyone avoids him like the plague after what happened.\\n That\\'s why he keeps misbehaving.\\n It\\'s the only way for him to get any attention or acknowledgement.\\n He pretends to be tough  but inside he is really hurting.\\n Die  Naruto!\\n Naruto! \\t\\t\\t\\t\\tGet down!\\n Why…?\\n Because you and I are the same.\\n After my parents died \\n nobody paid attention to me or gave me any support.\\n I wasn\\'t a good student in school.\\n I was the class clown… because I wanted people to notice me.\\n I couldn\\'t get noticed through excellence  so I kept doing stupid things.\\n It was so hard.\\n Isn\\'t that right  Naruto?\\n You felt so lonely…right? And you suffered inside  right?\\n I\\'m sorry  Naruto….\\n If I had been more responsible  maybe you wouldn\\'t have suffered so much.\\n Don\\'t make me laugh!\\n Iruka has always hated you  ever since you killed his parents!\\n He\\'s just saying all that to get the Scroll of Sealing back!\\n Naruto!\\n Narutoooooo!\\n He is not the type of kid who will change his mind.\\n He will take revenge against our village using that scroll!\\n Didn\\'t you see his eyes? Those are the eyes of a Demon Fox.\\n No… Naruto…isn\\'t…like that at all!\\n All I want is to kill Naruto and get the scroll.\\n I\\'ll take care of you later!\\n I-I won\\'t let you…\\n Well  well.\\n Mizuki has a big mouth!\\n Naruto feels worse than he\\'s ever felt.\\n He might unleash the power locked up inside him.\\n The Scroll of Sealing is now with him.\\n There\\'s a slight chance he might actually release\\n the Nine-Tailed Fox Spirit sealed inside him!\\n If that happens…\\n I\\'ve found him!\\n Naruto!\\n Everything that Mizuki said was a lie!\\n Give me that scroll  quick! Mizuki is after the scroll!\\n It can\\'t be…\\n Why is it  Naruto?\\n How…\\n did you know I wasn\\'t Iruka…?\\n Because I\\'m Iruka.\\n I see.\\n What\\'s in it for you to protect the one who killed your family?\\n I\\'m not gonna let a stupid idiot like you get that scroll!\\n You\\'re the idiot. Naruto is the same as me.\\n Same?\\n Anyone can do whatever he wants once he has the scroll.\\n There is no way that that monster…\\n that Fox Spirit  won\\'t take advantage of the power of that scroll!\\n You\\'re right…\\n I guess it was true all along!\\n See  Iruka Sensei never really cared for me at all!\\n ...if he was the Demon Fox Spirit.\\n But Naruto is different!\\n I know that he is an exceptional student.\\n He works very hard \\n and he\\'s single-minded and clumsy at the same time.\\n No one accepts him  but he knows the meaning of human suffering.\\n He is not the Demon Fox Spirit.\\n He\\'s Naruto Uzumaki of the Village Hidden in the Leaves!\\n You are so gullible. \\t\\t\\t\\t\\tlruka!\\n I was gonna take you down later  but I have changed my mind.\\n Die!\\n I guess this is the end for me…\\n Naruto?!\\n You surprised me there  freak.\\n If you ever lay a hand on Iruka Sensei  I\\'ll kill you!\\n Shut up! I can take care of a kid like you with a single blow!\\n Why don\\'t you try then? I\\'ll strike you back a thousand-fold!\\n Let\\'s see you try! Show me what you can do  Demon Fox!\\n Shadow Clone Jutsu!\\n Naruto! You\\'ve…\\n Those aren\\'t just images but actual clones! That\\'s an advanced Ninjutsu!\\n What\\'s this…?\\n What\\'s the matter? \\t\\t\\t\\t\\tC\\'mon!\\n Weren\\'t you gonna get me with one blow? Here!\\n In that case… I\\'ll come to you.\\n I kinda got carried away. lruka Sensei  are you okay?\\n Yeah.\\n He\\'s really something.\\n Maybe it is true.\\n Maybe he will surpass all the Hokage leaders…\\n Naruto  come over here. I\\'d like to give you something.\\n Has anyone found Naruto yet?\\n No.\\n Darn  this is going to be bad…\\n There\\'s no need to worry anymore.\\n Lord Hokage!\\n He\\'ll be back soon.\\n Sensei  how much longer?\\n OK  you may open your eyes now.\\n Congratulations…on your graduation.\\n In celebration  we\\'ll have ramen tonight!\\n Iruka Sensei!\\n That hurts!\\n Naruto…\\n I was going to lecture to you...\\n that the road gets more difficult now that you\\'re a Ninja.\\n But I guess I\\'ll just wait to tell you that until we get to the ramen stand…\\n W-What do you want  you little shrimp? Quit following me!\\n You\\'re smaller than me and\\n you\\'re saying that you\\'re gonna become the Fifth Hokage?\\n I don\\'t care if you are the 3rd Hokage\\'s grandson or not.\\n It\\'s not that easy to be a Hokage!\\n If you want it that bad  you\\'re gonna have to beat me first!\\n Next episode:  \"My Name Is Konohamaru!\"\\n Watch my outstanding performance!\\n'"
      ]
     },
     "execution_count": 12,
     "metadata": {},
     "output_type": "execute_result"
    }
   ],
   "source": [
    "sample_script = df.iloc[0]['script']\n",
    "sample_script"
   ]
  },
  {
   "cell_type": "code",
   "execution_count": 13,
   "metadata": {},
   "outputs": [],
   "source": [
    "sentences = sent_tokenize(sample_script)"
   ]
  },
  {
   "cell_type": "code",
   "execution_count": 14,
   "metadata": {},
   "outputs": [
    {
     "data": {
      "text/plain": [
       "['A long time ago  a powerful demon fox appeared with nine tails.',\n",
       " 'With its powerful tails \\n it could smash mountains and create tidal waves.',\n",
       " 'A band of Ninjas rose to defend their village from attack.',\n",
       " 'We have to wait until the Fourth Hokage gets here!',\n",
       " \"We can't let it get any closer to our village!\",\n",
       " 'One great Ninja was able to imprison the monster \\n but died in the process.',\n",
       " 'This Ninja was known as… the Fourth Hokage.',\n",
       " 'Naruto!',\n",
       " 'Why did you do such a thing?!',\n",
       " \"You're really gonna get it this time!\",\n",
       " \"I don't care!\",\n",
       " 'You know your problem?',\n",
       " \"You can't do the things I do!\",\n",
       " 'Only I can do this!',\n",
       " \"I'm better than all of you!\",\n",
       " 'Believe it!',\n",
       " \"There's a problem  sir!\",\n",
       " 'Lord Hokage!',\n",
       " 'What is it?',\n",
       " 'Did that Naruto do something again?',\n",
       " 'Yes.',\n",
       " 'He climbed onto the Mountainside Images…\\n And he vandalized and graffitied all over them!',\n",
       " 'Wait!',\n",
       " 'Ha ha…\\n Why should I?',\n",
       " 'Hey  Naruto!',\n",
       " 'How did you suddenly get here  lruka Sensei?',\n",
       " 'The question is what are you doing here when you should be in class now?',\n",
       " 'Now listen  Naruto.',\n",
       " 'You failed the last graduation test and the one before that.',\n",
       " 'This is no time to be goofing off  you fool!',\n",
       " 'We will have a re-test on the Transformation Jutsu!',\n",
       " 'Even those who already passed will take it!',\n",
       " 'Whaaaat?!',\n",
       " 'Sakura Haruno.',\n",
       " 'Here I go…\\n Transform!',\n",
       " 'OK!',\n",
       " 'I did it!',\n",
       " 'Cha!',\n",
       " 'Did you see that  Sasuke?',\n",
       " 'Next  Sasuke Uchiha.',\n",
       " 'Yes.',\n",
       " 'O-OK.\\n Next  Naruto Uzumaki.',\n",
       " 'This is a real pain.',\n",
       " \"And it's all your fault.\",\n",
       " 'Like I care!!',\n",
       " 'OK…\\n Good luck  Naruto…\\n Transform!',\n",
       " 'How was it?',\n",
       " 'I call it the \"Sexy Jutsu\"!',\n",
       " 'You fool!',\n",
       " 'Stop making idiotic spells!',\n",
       " \"Darn…\\n Darn…\\n I won't let you go home unless you clean that all up.\",\n",
       " \"I don't care…\\n There's nobody home anyway.\",\n",
       " 'Naruto...\\n What is it this time?',\n",
       " \"What I meant was…\\n If you clean up all that mess  I'll buy you ramen tonight.\",\n",
       " 'Huh?!',\n",
       " 'Yes!',\n",
       " 'I-I will finish it no time!',\n",
       " 'Enter: Naruto Uzumaki!',\n",
       " 'Naruto.',\n",
       " 'Why did you vandalize those faces?',\n",
       " \"Don't you know who the Hokage leaders are?\",\n",
       " 'Of course  I do!',\n",
       " 'I know they earned the title Lord Hokage\\n because they were the best Ninja of their time  right?',\n",
       " 'Especially the Fourth Hokage was a hero\\n who saved the village from the nine-tail demon fox.',\n",
       " 'Then why did you do that?',\n",
       " \"Because I'll become a Hokage myself.\",\n",
       " \"And I'll be the greatest Hokage of all time!\",\n",
       " 'So that everyone will finally learn to accept me!',\n",
       " 'By the way  Sensei  I have a favor to ask.',\n",
       " 'You want another bowl?',\n",
       " 'Mmmm…No…\\n Can I borrow that Leaf headband for a while?',\n",
       " 'This?',\n",
       " 'No no!',\n",
       " 'This is worn only by those who have graduated from Ninja Academy.',\n",
       " \"Tomorrow  you will…\\n You're so mean!\",\n",
       " \"So that's why you took off your goggles…\\n Humph... One more bowl please!\",\n",
       " 'We are now about to begin the graduation test.',\n",
       " 'When your name is called  proceed to the next classroom.',\n",
       " 'The test is on the Clone Jutsu.',\n",
       " 'Oh no…\\n Of all the…!',\n",
       " 'That is my weakest Jutsu!',\n",
       " 'But still… I will do it no matter what!',\n",
       " 'Clone Jutsu!',\n",
       " 'Disqualified!',\n",
       " 'Iruka Sensei.',\n",
       " 'His physical coordination and stamina are excellent.',\n",
       " 'And he managed to come up with something.',\n",
       " \"Isn't that enough for him to pass?\",\n",
       " 'Mizuki Sensei... All the others created three or more clones.',\n",
       " 'Naruto created just one.',\n",
       " \"And it's practically useless.\",\n",
       " \"I can't give him a passing mark.\",\n",
       " \"I 'm a Ninja now!\",\n",
       " 'You did well.',\n",
       " \"That's my son.\",\n",
       " 'Congratulations for your graduation.',\n",
       " \"I'll cook something good tonight!\",\n",
       " 'Look at that one.',\n",
       " \"It's that boy.\",\n",
       " \"I hear he's the only one who failed.\",\n",
       " 'Serves him right.',\n",
       " 'Imagine what would happen if he became a Ninja.',\n",
       " \"Isn't that the boy who is actually…\\n Hey!\",\n",
       " \"We're not supposed to talk about that.\",\n",
       " 'Iruka.',\n",
       " 'We need to talk later.',\n",
       " 'Yes  sir.',\n",
       " \"Iruka Sensei isn't trying to be mean to you.\",\n",
       " 'Then why only me?',\n",
       " 'He wants you to become strong from the bottom of his heart.',\n",
       " \"You both don't have parents.\",\n",
       " 'But I really wanted to graduate.',\n",
       " 'Heh...',\n",
       " \"I guess I have no choice…\\n I'll let you in on a big secret.\",\n",
       " 'Secret?',\n",
       " 'Iruka.',\n",
       " 'What is it  Lord Hokage?',\n",
       " 'I know how you feel.',\n",
       " 'But…\\n Naruto also grew up without knowing the love of his parents…like you.',\n",
       " 'Let me go!',\n",
       " 'My mom and dad are still out there fighting!',\n",
       " 'Wake up  Iruka Sensei!',\n",
       " \"What's the matter?\",\n",
       " \"Come to Lord Hokage's immediately!\",\n",
       " 'I heard that Naruto… stole the Scroll of Sealing.',\n",
       " 'The Scroll of Sealing?!',\n",
       " \"Let's see…\\n The first Jutsu is… Multi-Shadow Clone Jutsu?\",\n",
       " 'What?!',\n",
       " \"Already a Jutsu I'm no good at?\",\n",
       " 'Lord Hokage!',\n",
       " \"We can't forgive him!\",\n",
       " 'This is not just a prank!',\n",
       " 'The Scroll is a dangerous item that the First Hokage sealed!',\n",
       " 'Depending on its use…\\n It will be a major disaster if it is taken out of the village!',\n",
       " 'Yes.',\n",
       " 'Bring Naruto here at once!',\n",
       " 'Yes  sir!',\n",
       " 'Where did you go…Naruto?',\n",
       " 'I will tell everyone in the village about this and eliminate Naruto…\\n Then the Scroll of Sealing will be mine!',\n",
       " 'Hey you  Naruto!',\n",
       " \"You found me..\\n And I've only learned one Jutsu.\",\n",
       " \"He's been practicing the Jutsu…\\n until he's become this exhausted and dirty…?\",\n",
       " 'Listen  listen!',\n",
       " \"I'm gonna show you this amazing Jutsu!\",\n",
       " \"You're gonna let me graduate if I can do it!\",\n",
       " \"Isn't it true that I can graduate if I can do one of the Jutsu written here?\",\n",
       " 'Who told you that?',\n",
       " 'Mizuki Sensei.',\n",
       " 'He told me about this scroll  and this place…\\n Mizuki did?!',\n",
       " \"I'm impressed you found this place.\",\n",
       " 'I see now…how it is.',\n",
       " 'Naruto  give me that scroll.',\n",
       " \"Wait  wait… What's going on here?\",\n",
       " 'Naruto!',\n",
       " 'Never give him that scroll!',\n",
       " 'It is a dangerous object that contains forbidden Ninja Jutsu.',\n",
       " 'It was sealed.',\n",
       " 'Mizuki used you in order to get it for himself!',\n",
       " 'W-Wha--?',\n",
       " 'Naruto  Iruka is only afraid of you holding that scroll!',\n",
       " 'Huh?',\n",
       " 'What are you saying  Mizuki!',\n",
       " \"Don't let him fool you  Naruto!\",\n",
       " 'I will tell you the truth.',\n",
       " 'Idiot!',\n",
       " \"Don't do that!\",\n",
       " 'After an incident 12 years ago  a rule was created.',\n",
       " 'A rule?',\n",
       " 'That is  Naruto  a rule everybody but you knows.',\n",
       " 'Except me?!',\n",
       " 'What is it?',\n",
       " 'Stop it  Mizuki!',\n",
       " 'The rule forbids anyone from revealing that you are actually the Demon Fox Spirit!',\n",
       " 'Huh?',\n",
       " \"You are actually the Demon  Nine-Tailed Fox Spirit \\n who killed Iruka's parents and destroyed our village!\",\n",
       " 'Stop it!',\n",
       " 'Everyone has been deceiving you ever since.',\n",
       " \"Didn't you find it strange?\",\n",
       " 'Why everyone hated you so much?',\n",
       " 'No!',\n",
       " 'No!',\n",
       " 'No!',\n",
       " 'No!',\n",
       " 'No!',\n",
       " 'Naruto…\\n Nobody accepts you.',\n",
       " \"That's why Iruka hates you so much!\",\n",
       " 'Iruka... Naruto grew up without the love of parents.',\n",
       " 'Everyone avoids him like the plague after what happened.',\n",
       " \"That's why he keeps misbehaving.\",\n",
       " \"It's the only way for him to get any attention or acknowledgement.\",\n",
       " 'He pretends to be tough  but inside he is really hurting.',\n",
       " 'Die  Naruto!',\n",
       " 'Naruto!',\n",
       " 'Get down!',\n",
       " 'Why…?',\n",
       " 'Because you and I are the same.',\n",
       " 'After my parents died \\n nobody paid attention to me or gave me any support.',\n",
       " \"I wasn't a good student in school.\",\n",
       " 'I was the class clown… because I wanted people to notice me.',\n",
       " \"I couldn't get noticed through excellence  so I kept doing stupid things.\",\n",
       " 'It was so hard.',\n",
       " \"Isn't that right  Naruto?\",\n",
       " 'You felt so lonely…right?',\n",
       " 'And you suffered inside  right?',\n",
       " \"I'm sorry  Naruto….\",\n",
       " \"If I had been more responsible  maybe you wouldn't have suffered so much.\",\n",
       " \"Don't make me laugh!\",\n",
       " 'Iruka has always hated you  ever since you killed his parents!',\n",
       " \"He's just saying all that to get the Scroll of Sealing back!\",\n",
       " 'Naruto!',\n",
       " 'Narutoooooo!',\n",
       " 'He is not the type of kid who will change his mind.',\n",
       " 'He will take revenge against our village using that scroll!',\n",
       " \"Didn't you see his eyes?\",\n",
       " 'Those are the eyes of a Demon Fox.',\n",
       " \"No… Naruto…isn't…like that at all!\",\n",
       " 'All I want is to kill Naruto and get the scroll.',\n",
       " \"I'll take care of you later!\",\n",
       " \"I-I won't let you…\\n Well  well.\",\n",
       " 'Mizuki has a big mouth!',\n",
       " \"Naruto feels worse than he's ever felt.\",\n",
       " 'He might unleash the power locked up inside him.',\n",
       " 'The Scroll of Sealing is now with him.',\n",
       " \"There's a slight chance he might actually release\\n the Nine-Tailed Fox Spirit sealed inside him!\",\n",
       " \"If that happens…\\n I've found him!\",\n",
       " 'Naruto!',\n",
       " 'Everything that Mizuki said was a lie!',\n",
       " 'Give me that scroll  quick!',\n",
       " 'Mizuki is after the scroll!',\n",
       " \"It can't be…\\n Why is it  Naruto?\",\n",
       " \"How…\\n did you know I wasn't Iruka…?\",\n",
       " \"Because I'm Iruka.\",\n",
       " 'I see.',\n",
       " \"What's in it for you to protect the one who killed your family?\",\n",
       " \"I'm not gonna let a stupid idiot like you get that scroll!\",\n",
       " \"You're the idiot.\",\n",
       " 'Naruto is the same as me.',\n",
       " 'Same?',\n",
       " 'Anyone can do whatever he wants once he has the scroll.',\n",
       " \"There is no way that that monster…\\n that Fox Spirit  won't take advantage of the power of that scroll!\",\n",
       " \"You're right…\\n I guess it was true all along!\",\n",
       " 'See  Iruka Sensei never really cared for me at all!',\n",
       " '...if he was the Demon Fox Spirit.',\n",
       " 'But Naruto is different!',\n",
       " 'I know that he is an exceptional student.',\n",
       " \"He works very hard \\n and he's single-minded and clumsy at the same time.\",\n",
       " 'No one accepts him  but he knows the meaning of human suffering.',\n",
       " 'He is not the Demon Fox Spirit.',\n",
       " \"He's Naruto Uzumaki of the Village Hidden in the Leaves!\",\n",
       " 'You are so gullible.',\n",
       " 'lruka!',\n",
       " 'I was gonna take you down later  but I have changed my mind.',\n",
       " 'Die!',\n",
       " 'I guess this is the end for me…\\n Naruto?!',\n",
       " 'You surprised me there  freak.',\n",
       " \"If you ever lay a hand on Iruka Sensei  I'll kill you!\",\n",
       " 'Shut up!',\n",
       " 'I can take care of a kid like you with a single blow!',\n",
       " \"Why don't you try then?\",\n",
       " \"I'll strike you back a thousand-fold!\",\n",
       " \"Let's see you try!\",\n",
       " 'Show me what you can do  Demon Fox!',\n",
       " 'Shadow Clone Jutsu!',\n",
       " 'Naruto!',\n",
       " \"You've…\\n Those aren't just images but actual clones!\",\n",
       " \"That's an advanced Ninjutsu!\",\n",
       " \"What's this…?\",\n",
       " \"What's the matter?\",\n",
       " \"C'mon!\",\n",
       " \"Weren't you gonna get me with one blow?\",\n",
       " 'Here!',\n",
       " \"In that case… I'll come to you.\",\n",
       " 'I kinda got carried away.',\n",
       " 'lruka Sensei  are you okay?',\n",
       " 'Yeah.',\n",
       " \"He's really something.\",\n",
       " 'Maybe it is true.',\n",
       " 'Maybe he will surpass all the Hokage leaders…\\n Naruto  come over here.',\n",
       " \"I'd like to give you something.\",\n",
       " 'Has anyone found Naruto yet?',\n",
       " 'No.',\n",
       " \"Darn  this is going to be bad…\\n There's no need to worry anymore.\",\n",
       " 'Lord Hokage!',\n",
       " \"He'll be back soon.\",\n",
       " 'Sensei  how much longer?',\n",
       " 'OK  you may open your eyes now.',\n",
       " 'Congratulations…on your graduation.',\n",
       " \"In celebration  we'll have ramen tonight!\",\n",
       " 'Iruka Sensei!',\n",
       " 'That hurts!',\n",
       " \"Naruto…\\n I was going to lecture to you...\\n that the road gets more difficult now that you're a Ninja.\",\n",
       " \"But I guess I'll just wait to tell you that until we get to the ramen stand…\\n W-What do you want  you little shrimp?\",\n",
       " 'Quit following me!',\n",
       " \"You're smaller than me and\\n you're saying that you're gonna become the Fifth Hokage?\",\n",
       " \"I don't care if you are the 3rd Hokage's grandson or not.\",\n",
       " \"It's not that easy to be a Hokage!\",\n",
       " \"If you want it that bad  you're gonna have to beat me first!\",\n",
       " 'Next episode:  \"My Name Is Konohamaru!\"',\n",
       " 'Watch my outstanding performance!']"
      ]
     },
     "execution_count": 14,
     "metadata": {},
     "output_type": "execute_result"
    }
   ],
   "source": [
    "sentences"
   ]
  },
  {
   "cell_type": "code",
   "execution_count": 15,
   "metadata": {},
   "outputs": [],
   "source": [
    "sentences = sentences[60:90]"
   ]
  },
  {
   "cell_type": "code",
   "execution_count": 16,
   "metadata": {},
   "outputs": [],
   "source": [
    "sentence = \".\".join(sentences)"
   ]
  },
  {
   "cell_type": "code",
   "execution_count": 17,
   "metadata": {},
   "outputs": [
    {
     "data": {
      "text/plain": [
       "\"Don't you know who the Hokage leaders are?.Of course  I do!.I know they earned the title Lord Hokage\\n because they were the best Ninja of their time  right?.Especially the Fourth Hokage was a hero\\n who saved the village from the nine-tail demon fox..Then why did you do that?.Because I'll become a Hokage myself..And I'll be the greatest Hokage of all time!.So that everyone will finally learn to accept me!.By the way  Sensei  I have a favor to ask..You want another bowl?.Mmmm…No…\\n Can I borrow that Leaf headband for a while?.This?.No no!.This is worn only by those who have graduated from Ninja Academy..Tomorrow  you will…\\n You're so mean!.So that's why you took off your goggles…\\n Humph... One more bowl please!.We are now about to begin the graduation test..When your name is called  proceed to the next classroom..The test is on the Clone Jutsu..Oh no…\\n Of all the…!.That is my weakest Jutsu!.But still… I will do it no matter what!.Clone Jutsu!.Disqualified!.Iruka Sensei..His physical coordination and stamina are excellent..And he managed to come up with something..Isn't that enough for him to pass?.Mizuki Sensei... All the others created three or more clones..Naruto created just one.\""
      ]
     },
     "execution_count": 17,
     "metadata": {},
     "output_type": "execute_result"
    }
   ],
   "source": [
    "sentence"
   ]
  },
  {
   "cell_type": "code",
   "execution_count": null,
   "metadata": {},
   "outputs": [],
   "source": []
  },
  {
   "cell_type": "markdown",
   "metadata": {},
   "source": [
    "# Run Model"
   ]
  },
  {
   "cell_type": "code",
   "execution_count": 18,
   "metadata": {},
   "outputs": [
    {
     "name": "stderr",
     "output_type": "stream",
     "text": [
      "C:\\Users\\prana\\AppData\\Local\\Packages\\PythonSoftwareFoundation.Python.3.8_qbz5n2kfra8p0\\LocalCache\\local-packages\\Python38\\site-packages\\thinc\\shims\\pytorch.py:114: FutureWarning: `torch.cuda.amp.autocast(args...)` is deprecated. Please use `torch.amp.autocast('cuda', args...)` instead.\n",
      "  with torch.cuda.amp.autocast(self._mixed_precision):\n"
     ]
    }
   ],
   "source": [
    "doc = nlp_model(sentence)"
   ]
  },
  {
   "cell_type": "code",
   "execution_count": 19,
   "metadata": {},
   "outputs": [
    {
     "data": {
      "text/plain": [
       "(Ninja, Fourth, nine, Leaf, Ninja Academy, Tomorrow, One, three, Naruto, one)"
      ]
     },
     "execution_count": 19,
     "metadata": {},
     "output_type": "execute_result"
    }
   ],
   "source": [
    "doc.ents"
   ]
  },
  {
   "cell_type": "code",
   "execution_count": 20,
   "metadata": {},
   "outputs": [
    {
     "name": "stdout",
     "output_type": "stream",
     "text": [
      "Ninja NORP\n",
      "Fourth ORDINAL\n",
      "nine CARDINAL\n",
      "Leaf PRODUCT\n",
      "Ninja Academy ORG\n",
      "Tomorrow DATE\n",
      "One CARDINAL\n",
      "three CARDINAL\n",
      "Naruto PERSON\n",
      "one CARDINAL\n"
     ]
    }
   ],
   "source": [
    "for entity in doc.ents:\n",
    "    print(entity, entity.label_)"
   ]
  },
  {
   "cell_type": "code",
   "execution_count": 21,
   "metadata": {},
   "outputs": [],
   "source": [
    "def get_ners_inference(script):\n",
    "    script_sentences = sent_tokenize(script)\n",
    "\n",
    "    ner_output = []\n",
    "\n",
    "    for sentence in script_sentences:\n",
    "        doc = nlp_model(sentence)\n",
    "        ners = set()\n",
    "        for entity in doc.ents:\n",
    "            if entity.label_ ==\"PERSON\":\n",
    "                full_name = entity.text\n",
    "                first_name = entity.text.split(\" \")[0]\n",
    "                first_name = first_name.strip()\n",
    "                ners.add(first_name)\n",
    "        ner_output.append(ners)\n",
    "\n",
    "    return ner_output"
   ]
  },
  {
   "cell_type": "code",
   "execution_count": 22,
   "metadata": {},
   "outputs": [],
   "source": [
    "df = df.head(10)"
   ]
  },
  {
   "cell_type": "code",
   "execution_count": 23,
   "metadata": {},
   "outputs": [
    {
     "data": {
      "text/html": [
       "<div>\n",
       "<style scoped>\n",
       "    .dataframe tbody tr th:only-of-type {\n",
       "        vertical-align: middle;\n",
       "    }\n",
       "\n",
       "    .dataframe tbody tr th {\n",
       "        vertical-align: top;\n",
       "    }\n",
       "\n",
       "    .dataframe thead th {\n",
       "        text-align: right;\n",
       "    }\n",
       "</style>\n",
       "<table border=\"1\" class=\"dataframe\">\n",
       "  <thead>\n",
       "    <tr style=\"text-align: right;\">\n",
       "      <th></th>\n",
       "      <th>episode</th>\n",
       "      <th>script</th>\n",
       "    </tr>\n",
       "  </thead>\n",
       "  <tbody>\n",
       "    <tr>\n",
       "      <th>0</th>\n",
       "      <td>1</td>\n",
       "      <td>A long time ago  a powerful demon fox appeared...</td>\n",
       "    </tr>\n",
       "    <tr>\n",
       "      <th>1</th>\n",
       "      <td>2</td>\n",
       "      <td>C'mon!\\n Running like a fugitive \\n Being chas...</td>\n",
       "    </tr>\n",
       "    <tr>\n",
       "      <th>2</th>\n",
       "      <td>3</td>\n",
       "      <td>C'mon!\\n Running like a fugitive \\n Being chas...</td>\n",
       "    </tr>\n",
       "    <tr>\n",
       "      <th>3</th>\n",
       "      <td>4</td>\n",
       "      <td>C'mon!\\n Running like a fugitive \\n Being chas...</td>\n",
       "    </tr>\n",
       "    <tr>\n",
       "      <th>4</th>\n",
       "      <td>5</td>\n",
       "      <td>C'mon!\\n Running like a fugitive \\n Being chas...</td>\n",
       "    </tr>\n",
       "    <tr>\n",
       "      <th>5</th>\n",
       "      <td>6</td>\n",
       "      <td>C'mon!\\n Running like a fugitive \\n Being chas...</td>\n",
       "    </tr>\n",
       "    <tr>\n",
       "      <th>6</th>\n",
       "      <td>7</td>\n",
       "      <td>C'mon!\\n Running like a fugitive \\n Being chas...</td>\n",
       "    </tr>\n",
       "    <tr>\n",
       "      <th>7</th>\n",
       "      <td>8</td>\n",
       "      <td>C'mon!\\n Running like a fugitive \\n Being chas...</td>\n",
       "    </tr>\n",
       "    <tr>\n",
       "      <th>8</th>\n",
       "      <td>9</td>\n",
       "      <td>C'mon!\\n Running like a fugitive \\n Being chas...</td>\n",
       "    </tr>\n",
       "    <tr>\n",
       "      <th>9</th>\n",
       "      <td>12</td>\n",
       "      <td>C'mon!\\n Running like a fugitive \\n Being chas...</td>\n",
       "    </tr>\n",
       "  </tbody>\n",
       "</table>\n",
       "</div>"
      ],
      "text/plain": [
       "   episode                                             script\n",
       "0        1  A long time ago  a powerful demon fox appeared...\n",
       "1        2  C'mon!\\n Running like a fugitive \\n Being chas...\n",
       "2        3  C'mon!\\n Running like a fugitive \\n Being chas...\n",
       "3        4  C'mon!\\n Running like a fugitive \\n Being chas...\n",
       "4        5  C'mon!\\n Running like a fugitive \\n Being chas...\n",
       "5        6  C'mon!\\n Running like a fugitive \\n Being chas...\n",
       "6        7  C'mon!\\n Running like a fugitive \\n Being chas...\n",
       "7        8  C'mon!\\n Running like a fugitive \\n Being chas...\n",
       "8        9  C'mon!\\n Running like a fugitive \\n Being chas...\n",
       "9       12  C'mon!\\n Running like a fugitive \\n Being chas..."
      ]
     },
     "execution_count": 23,
     "metadata": {},
     "output_type": "execute_result"
    }
   ],
   "source": [
    "df"
   ]
  },
  {
   "cell_type": "code",
   "execution_count": 24,
   "metadata": {},
   "outputs": [
    {
     "name": "stderr",
     "output_type": "stream",
     "text": [
      "C:\\Users\\prana\\AppData\\Local\\Packages\\PythonSoftwareFoundation.Python.3.8_qbz5n2kfra8p0\\LocalCache\\local-packages\\Python38\\site-packages\\thinc\\shims\\pytorch.py:114: FutureWarning: `torch.cuda.amp.autocast(args...)` is deprecated. Please use `torch.amp.autocast('cuda', args...)` instead.\n",
      "  with torch.cuda.amp.autocast(self._mixed_precision):\n"
     ]
    }
   ],
   "source": [
    "df['ners'] = df['script'].apply(get_ners_inference)"
   ]
  },
  {
   "cell_type": "code",
   "execution_count": 25,
   "metadata": {},
   "outputs": [
    {
     "data": {
      "text/html": [
       "<div>\n",
       "<style scoped>\n",
       "    .dataframe tbody tr th:only-of-type {\n",
       "        vertical-align: middle;\n",
       "    }\n",
       "\n",
       "    .dataframe tbody tr th {\n",
       "        vertical-align: top;\n",
       "    }\n",
       "\n",
       "    .dataframe thead th {\n",
       "        text-align: right;\n",
       "    }\n",
       "</style>\n",
       "<table border=\"1\" class=\"dataframe\">\n",
       "  <thead>\n",
       "    <tr style=\"text-align: right;\">\n",
       "      <th></th>\n",
       "      <th>episode</th>\n",
       "      <th>script</th>\n",
       "      <th>ners</th>\n",
       "    </tr>\n",
       "  </thead>\n",
       "  <tbody>\n",
       "    <tr>\n",
       "      <th>0</th>\n",
       "      <td>1</td>\n",
       "      <td>A long time ago  a powerful demon fox appeared...</td>\n",
       "      <td>[{}, {}, {}, {}, {}, {}, {}, {Naruto}, {}, {},...</td>\n",
       "    </tr>\n",
       "    <tr>\n",
       "      <th>1</th>\n",
       "      <td>2</td>\n",
       "      <td>C'mon!\\n Running like a fugitive \\n Being chas...</td>\n",
       "      <td>[{}, {}, {}, {}, {}, {}, {}, {}, {}, {Konohama...</td>\n",
       "    </tr>\n",
       "    <tr>\n",
       "      <th>2</th>\n",
       "      <td>3</td>\n",
       "      <td>C'mon!\\n Running like a fugitive \\n Being chas...</td>\n",
       "      <td>[{}, {}, {}, {Sakura, Sasuke}, {}, {Konohamaru...</td>\n",
       "    </tr>\n",
       "    <tr>\n",
       "      <th>3</th>\n",
       "      <td>4</td>\n",
       "      <td>C'mon!\\n Running like a fugitive \\n Being chas...</td>\n",
       "      <td>[{}, {}, {}, {Naruto}, {}, {}, {Iruka}, {}, {N...</td>\n",
       "    </tr>\n",
       "    <tr>\n",
       "      <th>4</th>\n",
       "      <td>5</td>\n",
       "      <td>C'mon!\\n Running like a fugitive \\n Being chas...</td>\n",
       "      <td>[{}, {}, {}, {}, {}, {}, {}, {}, {}, {}, {}, {...</td>\n",
       "    </tr>\n",
       "    <tr>\n",
       "      <th>5</th>\n",
       "      <td>6</td>\n",
       "      <td>C'mon!\\n Running like a fugitive \\n Being chas...</td>\n",
       "      <td>[{}, {}, {Sasuke}, {Sakura}, {Naruto}, {}, {Na...</td>\n",
       "    </tr>\n",
       "    <tr>\n",
       "      <th>6</th>\n",
       "      <td>7</td>\n",
       "      <td>C'mon!\\n Running like a fugitive \\n Being chas...</td>\n",
       "      <td>[{}, {}, {}, {}, {}, {}, {}, {}, {}, {}, {}, {...</td>\n",
       "    </tr>\n",
       "    <tr>\n",
       "      <th>7</th>\n",
       "      <td>8</td>\n",
       "      <td>C'mon!\\n Running like a fugitive \\n Being chas...</td>\n",
       "      <td>[{}, {}, {}, {}, {}, {}, {}, {Sasuke}, {}, {},...</td>\n",
       "    </tr>\n",
       "    <tr>\n",
       "      <th>8</th>\n",
       "      <td>9</td>\n",
       "      <td>C'mon!\\n Running like a fugitive \\n Being chas...</td>\n",
       "      <td>[{}, {}, {}, {}, {}, {}, {}, {}, {}, {}, {}, {...</td>\n",
       "    </tr>\n",
       "    <tr>\n",
       "      <th>9</th>\n",
       "      <td>12</td>\n",
       "      <td>C'mon!\\n Running like a fugitive \\n Being chas...</td>\n",
       "      <td>[{}, {}, {}, {}, {Zabuza}, {}, {}, {}, {Naruto...</td>\n",
       "    </tr>\n",
       "  </tbody>\n",
       "</table>\n",
       "</div>"
      ],
      "text/plain": [
       "   episode                                             script  \\\n",
       "0        1  A long time ago  a powerful demon fox appeared...   \n",
       "1        2  C'mon!\\n Running like a fugitive \\n Being chas...   \n",
       "2        3  C'mon!\\n Running like a fugitive \\n Being chas...   \n",
       "3        4  C'mon!\\n Running like a fugitive \\n Being chas...   \n",
       "4        5  C'mon!\\n Running like a fugitive \\n Being chas...   \n",
       "5        6  C'mon!\\n Running like a fugitive \\n Being chas...   \n",
       "6        7  C'mon!\\n Running like a fugitive \\n Being chas...   \n",
       "7        8  C'mon!\\n Running like a fugitive \\n Being chas...   \n",
       "8        9  C'mon!\\n Running like a fugitive \\n Being chas...   \n",
       "9       12  C'mon!\\n Running like a fugitive \\n Being chas...   \n",
       "\n",
       "                                                ners  \n",
       "0  [{}, {}, {}, {}, {}, {}, {}, {Naruto}, {}, {},...  \n",
       "1  [{}, {}, {}, {}, {}, {}, {}, {}, {}, {Konohama...  \n",
       "2  [{}, {}, {}, {Sakura, Sasuke}, {}, {Konohamaru...  \n",
       "3  [{}, {}, {}, {Naruto}, {}, {}, {Iruka}, {}, {N...  \n",
       "4  [{}, {}, {}, {}, {}, {}, {}, {}, {}, {}, {}, {...  \n",
       "5  [{}, {}, {Sasuke}, {Sakura}, {Naruto}, {}, {Na...  \n",
       "6  [{}, {}, {}, {}, {}, {}, {}, {}, {}, {}, {}, {...  \n",
       "7  [{}, {}, {}, {}, {}, {}, {}, {Sasuke}, {}, {},...  \n",
       "8  [{}, {}, {}, {}, {}, {}, {}, {}, {}, {}, {}, {...  \n",
       "9  [{}, {}, {}, {}, {Zabuza}, {}, {}, {}, {Naruto...  "
      ]
     },
     "execution_count": 25,
     "metadata": {},
     "output_type": "execute_result"
    }
   ],
   "source": [
    "df"
   ]
  },
  {
   "cell_type": "markdown",
   "metadata": {},
   "source": [
    "# Character Network"
   ]
  },
  {
   "cell_type": "code",
   "execution_count": 26,
   "metadata": {},
   "outputs": [
    {
     "name": "stdout",
     "output_type": "stream",
     "text": [
      "Requirement already satisfied: pyvis in c:\\users\\prana\\appdata\\local\\packages\\pythonsoftwarefoundation.python.3.8_qbz5n2kfra8p0\\localcache\\local-packages\\python38\\site-packages (0.3.2)\n",
      "Requirement already satisfied: networkx>=1.11 in c:\\users\\prana\\appdata\\local\\packages\\pythonsoftwarefoundation.python.3.8_qbz5n2kfra8p0\\localcache\\local-packages\\python38\\site-packages (from pyvis) (3.1)\n",
      "Requirement already satisfied: ipython>=5.3.0 in c:\\users\\prana\\appdata\\local\\packages\\pythonsoftwarefoundation.python.3.8_qbz5n2kfra8p0\\localcache\\local-packages\\python38\\site-packages (from pyvis) (8.12.3)\n",
      "Requirement already satisfied: jsonpickle>=1.4.1 in c:\\users\\prana\\appdata\\local\\packages\\pythonsoftwarefoundation.python.3.8_qbz5n2kfra8p0\\localcache\\local-packages\\python38\\site-packages (from pyvis) (3.2.2)\n",
      "Requirement already satisfied: jinja2>=2.9.6 in c:\\users\\prana\\appdata\\local\\packages\\pythonsoftwarefoundation.python.3.8_qbz5n2kfra8p0\\localcache\\local-packages\\python38\\site-packages (from pyvis) (3.1.4)\n",
      "Requirement already satisfied: backcall in c:\\users\\prana\\appdata\\local\\packages\\pythonsoftwarefoundation.python.3.8_qbz5n2kfra8p0\\localcache\\local-packages\\python38\\site-packages (from ipython>=5.3.0->pyvis) (0.2.0)\n",
      "Requirement already satisfied: traitlets>=5 in c:\\users\\prana\\appdata\\local\\packages\\pythonsoftwarefoundation.python.3.8_qbz5n2kfra8p0\\localcache\\local-packages\\python38\\site-packages (from ipython>=5.3.0->pyvis) (5.14.3)\n",
      "Requirement already satisfied: decorator in c:\\users\\prana\\appdata\\local\\packages\\pythonsoftwarefoundation.python.3.8_qbz5n2kfra8p0\\localcache\\local-packages\\python38\\site-packages (from ipython>=5.3.0->pyvis) (5.1.1)\n",
      "Requirement already satisfied: pickleshare in c:\\users\\prana\\appdata\\local\\packages\\pythonsoftwarefoundation.python.3.8_qbz5n2kfra8p0\\localcache\\local-packages\\python38\\site-packages (from ipython>=5.3.0->pyvis) (0.7.5)\n",
      "Requirement already satisfied: pygments>=2.4.0 in c:\\users\\prana\\appdata\\local\\packages\\pythonsoftwarefoundation.python.3.8_qbz5n2kfra8p0\\localcache\\local-packages\\python38\\site-packages (from ipython>=5.3.0->pyvis) (2.18.0)\n",
      "Requirement already satisfied: matplotlib-inline in c:\\users\\prana\\appdata\\local\\packages\\pythonsoftwarefoundation.python.3.8_qbz5n2kfra8p0\\localcache\\local-packages\\python38\\site-packages (from ipython>=5.3.0->pyvis) (0.1.7)\n",
      "Requirement already satisfied: typing-extensions in c:\\users\\prana\\appdata\\local\\packages\\pythonsoftwarefoundation.python.3.8_qbz5n2kfra8p0\\localcache\\local-packages\\python38\\site-packages (from ipython>=5.3.0->pyvis) (4.12.2)\n",
      "Requirement already satisfied: prompt-toolkit!=3.0.37,<3.1.0,>=3.0.30 in c:\\users\\prana\\appdata\\local\\packages\\pythonsoftwarefoundation.python.3.8_qbz5n2kfra8p0\\localcache\\local-packages\\python38\\site-packages (from ipython>=5.3.0->pyvis) (3.0.47)\n",
      "Requirement already satisfied: colorama in c:\\users\\prana\\appdata\\local\\packages\\pythonsoftwarefoundation.python.3.8_qbz5n2kfra8p0\\localcache\\local-packages\\python38\\site-packages (from ipython>=5.3.0->pyvis) (0.4.6)\n",
      "Requirement already satisfied: stack-data in c:\\users\\prana\\appdata\\local\\packages\\pythonsoftwarefoundation.python.3.8_qbz5n2kfra8p0\\localcache\\local-packages\\python38\\site-packages (from ipython>=5.3.0->pyvis) (0.6.3)\n",
      "Requirement already satisfied: jedi>=0.16 in c:\\users\\prana\\appdata\\local\\packages\\pythonsoftwarefoundation.python.3.8_qbz5n2kfra8p0\\localcache\\local-packages\\python38\\site-packages (from ipython>=5.3.0->pyvis) (0.19.1)\n",
      "Requirement already satisfied: parso<0.9.0,>=0.8.3 in c:\\users\\prana\\appdata\\local\\packages\\pythonsoftwarefoundation.python.3.8_qbz5n2kfra8p0\\localcache\\local-packages\\python38\\site-packages (from jedi>=0.16->ipython>=5.3.0->pyvis) (0.8.4)\n",
      "Requirement already satisfied: MarkupSafe>=2.0 in c:\\users\\prana\\appdata\\local\\packages\\pythonsoftwarefoundation.python.3.8_qbz5n2kfra8p0\\localcache\\local-packages\\python38\\site-packages (from jinja2>=2.9.6->pyvis) (2.1.5)\n",
      "Requirement already satisfied: wcwidth in c:\\users\\prana\\appdata\\local\\packages\\pythonsoftwarefoundation.python.3.8_qbz5n2kfra8p0\\localcache\\local-packages\\python38\\site-packages (from prompt-toolkit!=3.0.37,<3.1.0,>=3.0.30->ipython>=5.3.0->pyvis) (0.2.13)\n",
      "Requirement already satisfied: pure-eval in c:\\users\\prana\\appdata\\local\\packages\\pythonsoftwarefoundation.python.3.8_qbz5n2kfra8p0\\localcache\\local-packages\\python38\\site-packages (from stack-data->ipython>=5.3.0->pyvis) (0.2.3)\n",
      "Requirement already satisfied: executing>=1.2.0 in c:\\users\\prana\\appdata\\local\\packages\\pythonsoftwarefoundation.python.3.8_qbz5n2kfra8p0\\localcache\\local-packages\\python38\\site-packages (from stack-data->ipython>=5.3.0->pyvis) (2.0.1)\n",
      "Requirement already satisfied: asttokens>=2.1.0 in c:\\users\\prana\\appdata\\local\\packages\\pythonsoftwarefoundation.python.3.8_qbz5n2kfra8p0\\localcache\\local-packages\\python38\\site-packages (from stack-data->ipython>=5.3.0->pyvis) (2.4.1)\n",
      "Requirement already satisfied: six>=1.12.0 in c:\\users\\prana\\appdata\\local\\packages\\pythonsoftwarefoundation.python.3.8_qbz5n2kfra8p0\\localcache\\local-packages\\python38\\site-packages (from asttokens>=2.1.0->stack-data->ipython>=5.3.0->pyvis) (1.16.0)\n"
     ]
    },
    {
     "name": "stderr",
     "output_type": "stream",
     "text": [
      "WARNING: You are using pip version 21.1.1; however, version 24.2 is available.\n",
      "You should consider upgrading via the 'C:\\Users\\prana\\AppData\\Local\\Microsoft\\WindowsApps\\PythonSoftwareFoundation.Python.3.8_qbz5n2kfra8p0\\python.exe -m pip install --upgrade pip' command.\n"
     ]
    }
   ],
   "source": [
    "!pip install pyvis"
   ]
  },
  {
   "cell_type": "code",
   "execution_count": 27,
   "metadata": {},
   "outputs": [],
   "source": [
    "import pandas as pd\n",
    "import matplotlib.pyplot as plt\n",
    "import networkx as nx\n",
    "from pyvis.network import Network"
   ]
  },
  {
   "cell_type": "code",
   "execution_count": 28,
   "metadata": {},
   "outputs": [],
   "source": [
    "def generate_character_network(df):\n",
    "\n",
    "    windows=10\n",
    "    entity_relationship = []\n",
    "\n",
    "    for row in df['ners']:\n",
    "        previous_entities_in_window = []\n",
    "\n",
    "        for sentence in row:\n",
    "            previous_entities_in_window.append(list(sentence))\n",
    "            previous_entities_in_window = previous_entities_in_window[-windows:]\n",
    "\n",
    "            # Flatten 2D List into 1D List\n",
    "            previous_entities_flattened = sum(previous_entities_in_window, [])\n",
    "\n",
    "            for entity in sentence:\n",
    "                for entity_in_window in previous_entities_flattened:\n",
    "                    if entity != entity_in_window:\n",
    "                        entity_relationship.append(sorted([entity, entity_in_window]))\n",
    "    \n",
    "    relationship_df = pd.DataFrame({'value': entity_relationship})\n",
    "    relationship_df['source'] = relationship_df['value'].apply(lambda x: x[0])\n",
    "    relationship_df['target'] = relationship_df['value'].apply(lambda x: x[1])\n",
    "    relationship_df = relationship_df.groupby(['source', 'target']).count().reset_index()\n",
    "    relationship_df = relationship_df.sort_values('value', ascending=False)\n",
    "\n",
    "    return relationship_df\n",
    "\n"
   ]
  },
  {
   "cell_type": "code",
   "execution_count": 29,
   "metadata": {},
   "outputs": [],
   "source": [
    "relationship_df = generate_character_network(df)"
   ]
  },
  {
   "cell_type": "code",
   "execution_count": 30,
   "metadata": {},
   "outputs": [
    {
     "data": {
      "text/html": [
       "<div>\n",
       "<style scoped>\n",
       "    .dataframe tbody tr th:only-of-type {\n",
       "        vertical-align: middle;\n",
       "    }\n",
       "\n",
       "    .dataframe tbody tr th {\n",
       "        vertical-align: top;\n",
       "    }\n",
       "\n",
       "    .dataframe thead th {\n",
       "        text-align: right;\n",
       "    }\n",
       "</style>\n",
       "<table border=\"1\" class=\"dataframe\">\n",
       "  <thead>\n",
       "    <tr style=\"text-align: right;\">\n",
       "      <th></th>\n",
       "      <th>source</th>\n",
       "      <th>target</th>\n",
       "      <th>value</th>\n",
       "    </tr>\n",
       "  </thead>\n",
       "  <tbody>\n",
       "    <tr>\n",
       "      <th>118</th>\n",
       "      <td>Naruto</td>\n",
       "      <td>Sasuke</td>\n",
       "      <td>117</td>\n",
       "    </tr>\n",
       "    <tr>\n",
       "      <th>144</th>\n",
       "      <td>Sakura</td>\n",
       "      <td>Sasuke</td>\n",
       "      <td>65</td>\n",
       "    </tr>\n",
       "    <tr>\n",
       "      <th>117</th>\n",
       "      <td>Naruto</td>\n",
       "      <td>Sakura</td>\n",
       "      <td>41</td>\n",
       "    </tr>\n",
       "    <tr>\n",
       "      <th>66</th>\n",
       "      <td>Iruka</td>\n",
       "      <td>Naruto</td>\n",
       "      <td>37</td>\n",
       "    </tr>\n",
       "    <tr>\n",
       "      <th>111</th>\n",
       "      <td>Mizuki</td>\n",
       "      <td>Naruto</td>\n",
       "      <td>28</td>\n",
       "    </tr>\n",
       "    <tr>\n",
       "      <th>...</th>\n",
       "      <td>...</td>\n",
       "      <td>...</td>\n",
       "      <td>...</td>\n",
       "    </tr>\n",
       "    <tr>\n",
       "      <th>57</th>\n",
       "      <td>Inari</td>\n",
       "      <td>Sasuke</td>\n",
       "      <td>1</td>\n",
       "    </tr>\n",
       "    <tr>\n",
       "      <th>54</th>\n",
       "      <td>Hokage</td>\n",
       "      <td>Tazuna</td>\n",
       "      <td>1</td>\n",
       "    </tr>\n",
       "    <tr>\n",
       "      <th>53</th>\n",
       "      <td>Hokage</td>\n",
       "      <td>Sensei</td>\n",
       "      <td>1</td>\n",
       "    </tr>\n",
       "    <tr>\n",
       "      <th>48</th>\n",
       "      <td>Hokage</td>\n",
       "      <td>Mizuki</td>\n",
       "      <td>1</td>\n",
       "    </tr>\n",
       "    <tr>\n",
       "      <th>85</th>\n",
       "      <td>Kage</td>\n",
       "      <td>Kakashi</td>\n",
       "      <td>1</td>\n",
       "    </tr>\n",
       "  </tbody>\n",
       "</table>\n",
       "<p>171 rows × 3 columns</p>\n",
       "</div>"
      ],
      "text/plain": [
       "     source   target  value\n",
       "118  Naruto   Sasuke    117\n",
       "144  Sakura   Sasuke     65\n",
       "117  Naruto   Sakura     41\n",
       "66    Iruka   Naruto     37\n",
       "111  Mizuki   Naruto     28\n",
       "..      ...      ...    ...\n",
       "57    Inari   Sasuke      1\n",
       "54   Hokage   Tazuna      1\n",
       "53   Hokage   Sensei      1\n",
       "48   Hokage   Mizuki      1\n",
       "85     Kage  Kakashi      1\n",
       "\n",
       "[171 rows x 3 columns]"
      ]
     },
     "execution_count": 30,
     "metadata": {},
     "output_type": "execute_result"
    }
   ],
   "source": [
    "relationship_df"
   ]
  },
  {
   "cell_type": "code",
   "execution_count": 31,
   "metadata": {},
   "outputs": [],
   "source": [
    "relationship_df = relationship_df.sort_values('value', ascending=False)\n",
    "relationship_df = relationship_df.head(200)"
   ]
  },
  {
   "cell_type": "code",
   "execution_count": 32,
   "metadata": {},
   "outputs": [
    {
     "name": "stdout",
     "output_type": "stream",
     "text": [
      "naruto.html\n"
     ]
    },
    {
     "data": {
      "text/html": [
       "\n",
       "        <iframe\n",
       "            width=\"1000px\"\n",
       "            height=\"700px\"\n",
       "            src=\"naruto.html\"\n",
       "            frameborder=\"0\"\n",
       "            allowfullscreen\n",
       "            \n",
       "        ></iframe>\n",
       "        "
      ],
      "text/plain": [
       "<IPython.lib.display.IFrame at 0x29b3144d220>"
      ]
     },
     "execution_count": 32,
     "metadata": {},
     "output_type": "execute_result"
    }
   ],
   "source": [
    "G = nx.from_pandas_edgelist(\n",
    "    relationship_df, \n",
    "    source='source', \n",
    "    target='target', \n",
    "    edge_attr='value',\n",
    "    create_using=nx.Graph()\n",
    ")\n",
    "\n",
    "net = Network(notebook=True, width=\"1000px\", height=\"700px\", bgcolor=\"#222222\", font_color=\"white\", cdn_resources=\"remote\")\n",
    "node_degree = dict(G.degree)\n",
    "\n",
    "nx.set_node_attributes(G, node_degree, 'size')\n",
    "net.from_nx(G)\n",
    "net.show(\"naruto.html\")\n"
   ]
  },
  {
   "cell_type": "code",
   "execution_count": null,
   "metadata": {},
   "outputs": [],
   "source": []
  }
 ],
 "metadata": {
  "kernelspec": {
   "display_name": "gradio_env",
   "language": "python",
   "name": "python3"
  },
  "language_info": {
   "codemirror_mode": {
    "name": "ipython",
    "version": 3
   },
   "file_extension": ".py",
   "mimetype": "text/x-python",
   "name": "python",
   "nbconvert_exporter": "python",
   "pygments_lexer": "ipython3",
   "version": "3.8.10"
  }
 },
 "nbformat": 4,
 "nbformat_minor": 2
}
